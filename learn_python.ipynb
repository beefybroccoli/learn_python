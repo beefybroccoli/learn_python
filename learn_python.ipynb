{
 "cells": [
  {
   "cell_type": "code",
   "execution_count": 2509,
   "metadata": {},
   "outputs": [],
   "source": [
    "import sys"
   ]
  },
  {
   "cell_type": "code",
   "execution_count": 2510,
   "metadata": {},
   "outputs": [
    {
     "name": "stdout",
     "output_type": "stream",
     "text": [
      "what is up?\n"
     ]
    }
   ],
   "source": [
    "print(\"what is up?\")"
   ]
  },
  {
   "cell_type": "code",
   "execution_count": 2511,
   "metadata": {},
   "outputs": [
    {
     "name": "stdout",
     "output_type": "stream",
     "text": [
      "<class 'str'>\n",
      "name is string\n"
     ]
    }
   ],
   "source": [
    "name = 'Tom'\n",
    "print(type(name))\n",
    "if isinstance(name, str):\n",
    "    print(\"name is string\")\n",
    "else:\n",
    "    print('name is not string')"
   ]
  },
  {
   "cell_type": "code",
   "execution_count": 2512,
   "id": "d837c760",
   "metadata": {},
   "outputs": [
    {
     "name": "stdout",
     "output_type": "stream",
     "text": [
      "<class 'int'>\n",
      "var is int\n"
     ]
    }
   ],
   "source": [
    "intNumber = 5\n",
    "print(type(intNumber))\n",
    "if isinstance(intNumber, int):\n",
    "    print(\"var is int\")\n",
    "else:\n",
    "    print('var is not int')"
   ]
  },
  {
   "cell_type": "code",
   "execution_count": 2513,
   "id": "5afbe75f",
   "metadata": {},
   "outputs": [
    {
     "name": "stdout",
     "output_type": "stream",
     "text": [
      "<class 'float'>\n",
      "var is float\n"
     ]
    }
   ],
   "source": [
    "floatNumber = 5.2\n",
    "print(type(floatNumber))\n",
    "if isinstance(floatNumber, float):\n",
    "    print(\"var is float\")\n",
    "else:\n",
    "    print('var is not foat')"
   ]
  },
  {
   "cell_type": "code",
   "execution_count": 2514,
   "id": "be4a748d",
   "metadata": {},
   "outputs": [
    {
     "name": "stdout",
     "output_type": "stream",
     "text": [
      "string 1string 1\n",
      "Unexpected err=TypeError('can only concatenate str (not \"int\") to str'), type(err)=<class 'TypeError'>\n",
      "end of function\n"
     ]
    }
   ],
   "source": [
    "try:\n",
    "    print('string 1' + 'string 1')\n",
    "\n",
    "    print('string 1' + 1)\n",
    "except Exception as err:\n",
    "    print(f\"Unexpected {err=}, {type(err)=}\")\n",
    "finally:\n",
    "    print(\"end of function\")"
   ]
  },
  {
   "cell_type": "code",
   "execution_count": 2515,
   "metadata": {},
   "outputs": [
    {
     "name": "stdout",
     "output_type": "stream",
     "text": [
      "[[1, 2, 3, 4, 5], [1.2, 3.2, 3.5], [], 'string name', True, False]\n",
      "6\n"
     ]
    }
   ],
   "source": [
    "numberList = [1,2,3,4,5]\n",
    "floatList = [1.2, 3.2, 3.5]\n",
    "myList = [numberList, floatList, [], 'string name', True, False]\n",
    "print(myList)\n",
    "print(len(myList))"
   ]
  },
  {
   "cell_type": "code",
   "execution_count": 2516,
   "id": "6631e8c0",
   "metadata": {},
   "outputs": [
    {
     "name": "stdout",
     "output_type": "stream",
     "text": [
      "<class 'set'>\n",
      "var is set\n",
      "4\n"
     ]
    }
   ],
   "source": [
    "mySet = {1, 1, 3, 4, 5}\n",
    "print(type(mySet))\n",
    "print(\"var is set\" if isinstance(mySet,set) else \"var is not set\")\n",
    "print(len(mySet))"
   ]
  },
  {
   "cell_type": "code",
   "execution_count": 2517,
   "id": "ee797abc",
   "metadata": {},
   "outputs": [
    {
     "data": {
      "text/plain": [
       "False"
      ]
     },
     "execution_count": 2517,
     "metadata": {},
     "output_type": "execute_result"
    }
   ],
   "source": [
    "## The order of list is important\n",
    "[1,2] == [2,1]"
   ]
  },
  {
   "cell_type": "code",
   "execution_count": 2518,
   "id": "d2601156",
   "metadata": {},
   "outputs": [
    {
     "data": {
      "text/plain": [
       "True"
      ]
     },
     "execution_count": 2518,
     "metadata": {},
     "output_type": "execute_result"
    }
   ],
   "source": [
    "## The order of set does not matter\n",
    "{1,2} == {2,1}"
   ]
  },
  {
   "cell_type": "code",
   "execution_count": 2519,
   "id": "4d1b3a42",
   "metadata": {},
   "outputs": [
    {
     "name": "stdout",
     "output_type": "stream",
     "text": [
      "<class 'tuple'>\n",
      "var is tuple\n"
     ]
    }
   ],
   "source": [
    "myTuple = (1,2,3)\n",
    "print(type(myTuple))\n",
    "print(\"var is tuple\" if isinstance(myTuple, tuple) else \"var is not tuple\")"
   ]
  },
  {
   "cell_type": "code",
   "execution_count": 2520,
   "id": "e380f00e",
   "metadata": {},
   "outputs": [
    {
     "data": {
      "text/plain": [
       "False"
      ]
     },
     "execution_count": 2520,
     "metadata": {},
     "output_type": "execute_result"
    }
   ],
   "source": [
    "## The order of Tuple does not matter\n",
    "(1,2,3) == (3,2,1)"
   ]
  },
  {
   "cell_type": "code",
   "execution_count": 2521,
   "id": "4bf779a7",
   "metadata": {},
   "outputs": [
    {
     "name": "stdout",
     "output_type": "stream",
     "text": [
      "Unexpected err=AttributeError(\"'tuple' object has no attribute 'append'\") error occured TypeError(err)=TypeError(AttributeError(\"'tuple' object has no attribute 'append'\"))\n",
      "exit function\n"
     ]
    }
   ],
   "source": [
    "## Tuples cannot be modified\n",
    "testTuple = (1,2,3)\n",
    "try:\n",
    "    testTuple.append(6)\n",
    "except Exception as err:\n",
    "    print(f\"Unexpected {err=} error occured {TypeError(err)=}\")\n",
    "finally:\n",
    "    print(\"exit function\")"
   ]
  },
  {
   "cell_type": "code",
   "execution_count": 2522,
   "id": "27298b04",
   "metadata": {},
   "outputs": [
    {
     "name": "stdout",
     "output_type": "stream",
     "text": [
      "{'a': 1, 'b': 2}\n",
      "<class 'dict'>\n",
      "var is dict\n"
     ]
    }
   ],
   "source": [
    "myDictionary = { 'a' : 1, 'b':2}\n",
    "print(myDictionary)\n",
    "print(type(myDictionary))\n",
    "print(\"var is dict\" if isinstance(myDictionary, dict) else \"var is not dict\")"
   ]
  },
  {
   "cell_type": "code",
   "execution_count": 2523,
   "id": "bd404991",
   "metadata": {},
   "outputs": [
    {
     "name": "stdout",
     "output_type": "stream",
     "text": [
      "2\n",
      "0\n",
      "1\n",
      "2.0\n",
      "3\n",
      "string 1 string 1 string 1 string 1 \n",
      "True\n",
      "True\n",
      "True\n",
      "True\n",
      "True\n",
      "True\n",
      "True\n",
      "False\n",
      "True\n",
      "True\n",
      "False\n",
      "False\n"
     ]
    }
   ],
   "source": [
    "## operators\n",
    "print(1 + 1)\n",
    "print(1 - 1)\n",
    "print(1 * 1)\n",
    "print(2 / 1)\n",
    "print(3 % 5)\n",
    "print('string 1 ' * 4)\n",
    "print(True == True)\n",
    "print(4 < 5)\n",
    "print(4 <= 5)\n",
    "print(5 > 2)\n",
    "print(5 >= 2)\n",
    "print(True and True)\n",
    "print(True or True)\n",
    "print(not(True))\n",
    "print(1 in [1,2,3,4])\n",
    "print(\"cat \" in \"cat is here\")\n",
    "print(\"cat \" not in \"cat is here\")\n",
    "print(\"cat \" in {\"cat\":1}.keys())"
   ]
  },
  {
   "cell_type": "code",
   "execution_count": 2524,
   "id": "e76146d5",
   "metadata": {},
   "outputs": [
    {
     "name": "stdout",
     "output_type": "stream",
     "text": [
      "false condition\n"
     ]
    }
   ],
   "source": [
    "status = False\n",
    "if status:\n",
    "    print(\"status is true\")\n",
    "else:\n",
    "    print(\"false condition\")"
   ]
  },
  {
   "cell_type": "code",
   "execution_count": 2525,
   "id": "8ef506f1",
   "metadata": {},
   "outputs": [
    {
     "name": "stdout",
     "output_type": "stream",
     "text": [
      "1\n",
      "2\n",
      "3\n",
      "4\n"
     ]
    }
   ],
   "source": [
    "a = [1,2,3,4]\n",
    "for element in a:\n",
    "    print(element)"
   ]
  },
  {
   "cell_type": "code",
   "execution_count": 2526,
   "id": "88c51f72",
   "metadata": {},
   "outputs": [
    {
     "name": "stdout",
     "output_type": "stream",
     "text": [
      "10\n",
      "9\n",
      "8\n",
      "7\n",
      "6\n",
      "5\n",
      "4\n",
      "3\n",
      "2\n",
      "1\n"
     ]
    }
   ],
   "source": [
    "number = 10\n",
    "while number > 0:\n",
    "    print(number)\n",
    "    number = number - 1"
   ]
  },
  {
   "attachments": {},
   "cell_type": "markdown",
   "id": "43743858",
   "metadata": {},
   "source": [
    "Function"
   ]
  },
  {
   "cell_type": "code",
   "execution_count": 2527,
   "id": "6668bafb",
   "metadata": {},
   "outputs": [
    {
     "name": "stdout",
     "output_type": "stream",
     "text": [
      "[[1, 2, 3, 4, 5], [1.2, 3.2, 3.5], [], 'string name', True, False, 1]\n",
      "[[1, 2, 3, 4, 5], [1.2, 3.2, 3.5], [], 'string name', True, False, 1, None]\n"
     ]
    }
   ],
   "source": [
    "def viewList():\n",
    "    return print(myList)\n",
    "\n",
    "def addToMyList(input):\n",
    "    myList.append(input)\n",
    "    return viewList()\n",
    "\n",
    "addToMyList(1)\n",
    "addToMyList(None)\n"
   ]
  },
  {
   "cell_type": "code",
   "execution_count": 2528,
   "id": "da077452",
   "metadata": {},
   "outputs": [
    {
     "name": "stdout",
     "output_type": "stream",
     "text": [
      "self.name='tom' + just barked\n",
      "{'numOfLegs': 4}\n",
      "{'numOfLegs': 4, 'favorite food': ['apple', 'meat']}\n"
     ]
    }
   ],
   "source": [
    "class Animal:\n",
    "    def __init__(self):\n",
    "        self.name = 'Unknown'\n",
    "        self.numOfLegs = 0\n",
    "\n",
    "class Dog:\n",
    "    def __init__(self,name):\n",
    "        self.name = name\n",
    "        self.attributes = {}\n",
    "    \n",
    "    def speak(self):\n",
    "        print(f\"{self.name=} + just barked\")\n",
    "    \n",
    "    def addAttribute(self, key, value):\n",
    "        self.attributes[key]=value\n",
    "        return self.getAttributes()\n",
    "    \n",
    "    def getAttributes(self):\n",
    "        return print(self.attributes)\n",
    "\n",
    "dog_1 = Dog(\"tom\")\n",
    "dog_1.speak()\n",
    "dog_1.addAttribute(\"numOfLegs\",4)\n",
    "dog_1.addAttribute(\"favorite food\",[\"apple\", \"meat\"])"
   ]
  },
  {
   "cell_type": "code",
   "execution_count": null,
   "id": "ba63f57a",
   "metadata": {},
   "outputs": [],
   "source": []
  },
  {
   "attachments": {},
   "cell_type": "markdown",
   "id": "3a35f303",
   "metadata": {},
   "source": [
    "Common Problems with Data Type"
   ]
  },
  {
   "cell_type": "code",
   "execution_count": 2529,
   "id": "15ab59a3",
   "metadata": {},
   "outputs": [
    {
     "name": "stdout",
     "output_type": "stream",
     "text": [
      "8.0\n",
      "256.0\n",
      "0.19999999999999996\n",
      "0.01\n",
      "100\n"
     ]
    },
    {
     "data": {
      "text/plain": [
       "427"
      ]
     },
     "execution_count": 2529,
     "metadata": {},
     "output_type": "execute_result"
    }
   ],
   "source": [
    "print(4 + 4.0)\n",
    "print(4 ** 4.0)\n",
    "int(4 ** 4.0)\n",
    "int(8.99)\n",
    "int(round(8.99))\n",
    "print(1.2 - 1.0)\n",
    "print(round(1.2 - 1.19,2))\n",
    "print(int('100'))\n",
    "\n",
    "#convert base 16 to int\n",
    "int('1ab',16)"
   ]
  },
  {
   "cell_type": "code",
   "execution_count": 2530,
   "id": "d2c47179",
   "metadata": {},
   "outputs": [
    {
     "name": "stdout",
     "output_type": "stream",
     "text": [
      "0.45\n",
      "0.45\n"
     ]
    }
   ],
   "source": [
    "# working with money\n",
    "from decimal import Decimal, getcontext\n",
    "\n",
    "getcontext().prec=2 #change the precision to 4 decimal\n",
    "getcontext()\n",
    "print(Decimal(1.344)/Decimal(3))\n",
    "print(Decimal(' 01.344 ')/Decimal(int('3 ')))"
   ]
  },
  {
   "cell_type": "code",
   "execution_count": 2531,
   "id": "deb423ba",
   "metadata": {},
   "outputs": [
    {
     "name": "stdout",
     "output_type": "stream",
     "text": [
      "True\n",
      "True\n",
      "False\n",
      "False\n",
      "False\n",
      "False\n",
      "False\n",
      "False\n",
      "True\n",
      "False\n",
      "True\n"
     ]
    }
   ],
   "source": [
    "#working iwth boolean\n",
    "print(bool(1))\n",
    "print(bool(True))\n",
    "print(bool(False))\n",
    "print(bool(\"\")) #empty string return false\n",
    "print(bool(())) #empty tuple return false\n",
    "print(bool([])) #empty list return false\n",
    "print(bool({})) #empty dictionary return false\n",
    "print(bool(None)) #None return false\n",
    "print(bool(-1)) #negative number return True\n",
    "print(bool(0)) #zero return True\n",
    "print(bool(0.1))"
   ]
  },
  {
   "cell_type": "code",
   "execution_count": 2532,
   "id": "d56b16b8",
   "metadata": {},
   "outputs": [
    {
     "name": "stdout",
     "output_type": "stream",
     "text": [
      "m\n",
      "my name\n",
      "me is Tom\n",
      "my number is 4\n",
      "\n",
      "my string \n",
      "lst multiple lines,\n",
      "the same as {4} lines\n",
      "\n"
     ]
    }
   ],
   "source": [
    "#working with string\n",
    "\n",
    "#slicing\n",
    "random_string = \"my name is Tom\"\n",
    "print(random_string[0])\n",
    "print(random_string[0:7])\n",
    "print(random_string[5:])\n",
    "\n",
    "#string formatting\n",
    "print(f\"my number is {4}\")\n",
    "\n",
    "#multiline string\n",
    "my_long_string = '''\n",
    "my string \n",
    "lst multiple lines,\n",
    "the same as {4} lines\n",
    "'''\n",
    "print(my_long_string)"
   ]
  },
  {
   "cell_type": "code",
   "execution_count": 2533,
   "id": "7d4ca14c",
   "metadata": {},
   "outputs": [
    {
     "data": {
      "text/plain": [
       "'abcd'"
      ]
     },
     "execution_count": 2533,
     "metadata": {},
     "output_type": "execute_result"
    }
   ],
   "source": [
    "#python byte object\n",
    "\n",
    "#byte objects are a sequence of data\n",
    "\n",
    "bytes(4)\n",
    "new_bytes = bytes('abcd', 'utf-8')\n",
    "new_bytes.decode('utf-8')"
   ]
  },
  {
   "cell_type": "code",
   "execution_count": 2534,
   "id": "ad9d12ef",
   "metadata": {},
   "outputs": [
    {
     "name": "stdout",
     "output_type": "stream",
     "text": [
      "[0, 2, 4, 6, 8]\n",
      "[0, 2, 4, 6, 8]\n",
      "[0, 3, 6, 9]\n",
      "[9, 7, 5, 3, 1]\n",
      "[0, 1, 2, 3, 4, 5, 6, 7, 8, 9, 1]\n",
      "[0, 1, 2, 3, 4, 5, 6, 7, 8, 9]\n",
      "[0, 1, 2, 3, 4, 5, 6, 7, 8, 9]\n"
     ]
    }
   ],
   "source": [
    "#working with list\n",
    "myList = list(range(10)) #convert range to List\n",
    "print(myList[0:10:2]) #from index 0 to 9, return every second element\n",
    "print(myList[::2]) #from begin to end, return evey second element\n",
    "print(myList[::3]) #from begin to end, return evey third element\n",
    "print(myList[::-2]) #from end to begin, return evey second element\n",
    "myList.append(1)  #add item to a list\n",
    "print(myList)\n",
    "myList.pop()  #pop an item from list\n",
    "print(myList)\n",
    "duplicated_myList = myList.copy()\n",
    "print(myList)"
   ]
  },
  {
   "cell_type": "code",
   "execution_count": 2535,
   "id": "65825e60",
   "metadata": {},
   "outputs": [
    {
     "name": "stdout",
     "output_type": "stream",
     "text": [
      "[1, 2]\n",
      "[1, 2]\n",
      "1\n",
      "2\n",
      "1 not in set\n"
     ]
    }
   ],
   "source": [
    "#working with Set\n",
    "\n",
    "#remove duplicate from a list\n",
    "list_with_duplicated = [1, 1, 2, 2]\n",
    "new_set = set(list_with_duplicated)\n",
    "list_without_duplicated = list(new_set)\n",
    "print(list_without_duplicated)\n",
    "\n",
    "print(list(set([1, 1, 2, 2])))\n",
    "\n",
    "\n",
    "while len(new_set):\n",
    "    print(new_set.pop())\n",
    "\n",
    "\n",
    "#find elements in set\n",
    "print(\"1 in set\" if 1 in new_set else \"1 not in set\")\n"
   ]
  },
  {
   "cell_type": "code",
   "execution_count": 2536,
   "id": "98568969",
   "metadata": {},
   "outputs": [],
   "source": [
    "#working with tuples\n",
    "\n",
    "def returnMultipleValues():\n",
    "    return 1, 2, 3\n",
    "\n",
    "type(returnMultipleValues())\n",
    "\n",
    "new_tuple = (1,2,3) #set new tuple\n",
    "\n",
    "a, b, c = returnMultipleValues()"
   ]
  },
  {
   "cell_type": "code",
   "execution_count": 2537,
   "id": "03bc05be",
   "metadata": {},
   "outputs": [
    {
     "name": "stdout",
     "output_type": "stream",
     "text": [
      "['dog', 'cat']\n",
      "['value for dog', 'value for cat']\n",
      "None\n",
      "value for dog\n",
      "{'dog': 'value for dog', 'cat': 'value for cat'}\n"
     ]
    }
   ],
   "source": [
    "from collections import defaultdict\n",
    "\n",
    "#dict_animals = defaultdict(list) #the return as list\n",
    "dict_animals = {\"dog\":\"value for dog\",\"cat\":\"value for cat\"}\n",
    "list_of_animals = list(dict_animals.keys())\n",
    "list_of_values = list(dict_animals.values())\n",
    "print(list_of_animals)\n",
    "print(list_of_values)\n",
    "\n",
    "#return None is the key is not in a dictionary\n",
    "print(dict_animals.get(\"Dragon\"))\n",
    "print(dict_animals.get(\"dog\"))\n",
    "#dict_animals['fish'].append('value for fish')\n",
    "print(dict_animals)"
   ]
  },
  {
   "cell_type": "code",
   "execution_count": 2538,
   "id": "2e9a2091",
   "metadata": {},
   "outputs": [
    {
     "name": "stdout",
     "output_type": "stream",
     "text": [
      "[10, 3, 10, 7, 10, 14, 12, 13, 17, 12]\n",
      "[10, 10, 10, 14, 12, 12]\n"
     ]
    }
   ],
   "source": [
    "#list comprehension\n",
    "\n",
    "import random\n",
    "\n",
    "myList = list(range(10))\n",
    "myList = [ random.randint(1,10) + element for element in myList]\n",
    "print(myList)\n",
    "\n",
    "#filter all element divisible by 10\n",
    "myList = [element for element in myList if element % 2 == 0]\n",
    "print(myList)"
   ]
  },
  {
   "cell_type": "code",
   "execution_count": null,
   "id": "6847dad4",
   "metadata": {},
   "outputs": [],
   "source": []
  },
  {
   "cell_type": "code",
   "execution_count": 2539,
   "id": "c2c91102",
   "metadata": {},
   "outputs": [
    {
     "name": "stdout",
     "output_type": "stream",
     "text": [
      "['my', 'name', 'is', 'thomas', 'david']\n"
     ]
    }
   ],
   "source": [
    "#list comprehension with functions\n",
    "\n",
    "myString = \"My name is Thomas David.\"\n",
    "list_myString = myString.split(\" \")\n",
    "\n",
    "def cleanWord(word):\n",
    "    return word.replace('.','').lower()\n",
    "\n",
    "list_myString = [cleanWord(element) for element in list_myString ]\n",
    "print(list_myString)"
   ]
  },
  {
   "cell_type": "code",
   "execution_count": 2540,
   "id": "fbc7ef95",
   "metadata": {},
   "outputs": [
    {
     "name": "stdout",
     "output_type": "stream",
     "text": [
      "[('a', 1), ('b', 2)]\n",
      "{'a': 1, 'b': 2}\n"
     ]
    }
   ],
   "source": [
    "#Dictionary Comprehension\n",
    "\n",
    "#Dictionary Comprehenshion is used to generate dictionaries from iterable structures\n",
    "\n",
    "list_keys = ['a','b','c']\n",
    "list_values = [1,2,3]\n",
    "list_keys_values = []\n",
    "\n",
    "#how do i write this for loop in List Comprehension?\n",
    "for i in range(0,len(list_keys)-1):\n",
    "    list_keys_values.append((list_keys[i],list_values[i]))\n",
    "print(list_keys_values)\n",
    "\n",
    "diction_keys_values = {element[0]:element[1] for element in list_keys_values}\n",
    "print(diction_keys_values)"
   ]
  },
  {
   "cell_type": "code",
   "execution_count": 2541,
   "id": "678b9bd2",
   "metadata": {},
   "outputs": [
    {
     "name": "stdout",
     "output_type": "stream",
     "text": [
      "{'a': (1, 0, 0), 'b': (2, 1, 0), 'c': (3, 0, 0)}\n",
      "[('a', (1, 0, 0)), ('b', (2, 1, 0)), ('c', (3, 0, 0))]\n",
      "[{'key': 'a', 'value': (1, 0, 0)}, {'key': 'b', 'value': (2, 1, 0)}, {'key': 'c', 'value': (3, 0, 0)}]\n"
     ]
    }
   ],
   "source": [
    "#diction and list comprehension\n",
    "\n",
    "\n",
    "#turn list into dictionarys\n",
    "list_x_y_z = [('a',(1,0,0)),('b',(2,1,0)),('c',(3,0,0))]\n",
    "dict_coordinates = {key: value for key, value in list_x_y_z}\n",
    "print(dict_coordinates)\n",
    "\n",
    "list_x_y_x_2 = list(dict_coordinates.items())\n",
    "print(list_x_y_x_2)\n",
    "\n",
    "\n",
    "#turn dictionary into a list of dictionary\n",
    "list_of_dictionary = [{'key':key,'value':value} for key, value in dict_coordinates.items()]\n",
    "print(list_of_dictionary)"
   ]
  },
  {
   "cell_type": "markdown",
   "id": "4f205a0a",
   "metadata": {},
   "source": []
  },
  {
   "cell_type": "markdown",
   "id": "8a8391b0",
   "metadata": {},
   "source": []
  }
 ],
 "metadata": {
  "kernelspec": {
   "display_name": "Python 3",
   "language": "python",
   "name": "python3"
  },
  "language_info": {
   "codemirror_mode": {
    "name": "ipython",
    "version": 3
   },
   "file_extension": ".py",
   "mimetype": "text/x-python",
   "name": "python",
   "nbconvert_exporter": "python",
   "pygments_lexer": "ipython3",
   "version": "3.8.10"
  }
 },
 "nbformat": 4,
 "nbformat_minor": 5
}
