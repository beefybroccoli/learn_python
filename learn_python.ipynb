{
 "cells": [
  {
   "cell_type": "code",
   "execution_count": 233,
   "metadata": {},
   "outputs": [],
   "source": [
    "import sys"
   ]
  },
  {
   "cell_type": "code",
   "execution_count": 234,
   "metadata": {},
   "outputs": [
    {
     "name": "stdout",
     "output_type": "stream",
     "text": [
      "what is up?\n"
     ]
    }
   ],
   "source": [
    "print(\"what is up?\")"
   ]
  },
  {
   "cell_type": "code",
   "execution_count": 235,
   "metadata": {},
   "outputs": [
    {
     "name": "stdout",
     "output_type": "stream",
     "text": [
      "<class 'str'>\n",
      "name is string\n"
     ]
    }
   ],
   "source": [
    "name = 'Tom'\n",
    "print(type(name))\n",
    "if isinstance(name, str):\n",
    "    print(\"name is string\")\n",
    "else:\n",
    "    print('name is not string')"
   ]
  },
  {
   "cell_type": "code",
   "execution_count": 236,
   "id": "d837c760",
   "metadata": {},
   "outputs": [
    {
     "name": "stdout",
     "output_type": "stream",
     "text": [
      "<class 'int'>\n",
      "var is int\n"
     ]
    }
   ],
   "source": [
    "intNumber = 5\n",
    "print(type(intNumber))\n",
    "if isinstance(intNumber, int):\n",
    "    print(\"var is int\")\n",
    "else:\n",
    "    print('var is not int')"
   ]
  },
  {
   "cell_type": "code",
   "execution_count": 237,
   "id": "5afbe75f",
   "metadata": {},
   "outputs": [
    {
     "name": "stdout",
     "output_type": "stream",
     "text": [
      "<class 'float'>\n",
      "var is float\n"
     ]
    }
   ],
   "source": [
    "floatNumber = 5.2\n",
    "print(type(floatNumber))\n",
    "if isinstance(floatNumber, float):\n",
    "    print(\"var is float\")\n",
    "else:\n",
    "    print('var is not foat')"
   ]
  },
  {
   "cell_type": "code",
   "execution_count": 238,
   "id": "be4a748d",
   "metadata": {},
   "outputs": [
    {
     "name": "stdout",
     "output_type": "stream",
     "text": [
      "string 1string 1\n",
      "Unexpected err=TypeError('can only concatenate str (not \"int\") to str'), type(err)=<class 'TypeError'>\n",
      "end of function\n"
     ]
    }
   ],
   "source": [
    "try:\n",
    "    print('string 1' + 'string 1')\n",
    "\n",
    "    print('string 1' + 1)\n",
    "except Exception as err:\n",
    "    print(f\"Unexpected {err=}, {type(err)=}\")\n",
    "finally:\n",
    "    print(\"end of function\")"
   ]
  },
  {
   "cell_type": "code",
   "execution_count": 239,
   "metadata": {},
   "outputs": [
    {
     "name": "stdout",
     "output_type": "stream",
     "text": [
      "[[1, 2, 3, 4, 5], [1.2, 3.2, 3.5], [], 'string name', True, False]\n",
      "6\n"
     ]
    }
   ],
   "source": [
    "numberList = [1,2,3,4,5]\n",
    "floatList = [1.2, 3.2, 3.5]\n",
    "myList = [numberList, floatList, [], 'string name', True, False]\n",
    "print(myList)\n",
    "print(len(myList))"
   ]
  },
  {
   "cell_type": "code",
   "execution_count": 240,
   "id": "6631e8c0",
   "metadata": {},
   "outputs": [
    {
     "name": "stdout",
     "output_type": "stream",
     "text": [
      "<class 'set'>\n",
      "var is set\n",
      "4\n"
     ]
    }
   ],
   "source": [
    "mySet = {1, 1, 3, 4, 5}\n",
    "print(type(mySet))\n",
    "print(\"var is set\" if isinstance(mySet,set) else \"var is not set\")\n",
    "print(len(mySet))"
   ]
  },
  {
   "cell_type": "code",
   "execution_count": 241,
   "id": "ee797abc",
   "metadata": {},
   "outputs": [
    {
     "data": {
      "text/plain": [
       "False"
      ]
     },
     "execution_count": 241,
     "metadata": {},
     "output_type": "execute_result"
    }
   ],
   "source": [
    "## The order of list is important\n",
    "[1,2] == [2,1]"
   ]
  },
  {
   "cell_type": "code",
   "execution_count": 242,
   "id": "d2601156",
   "metadata": {},
   "outputs": [
    {
     "data": {
      "text/plain": [
       "True"
      ]
     },
     "execution_count": 242,
     "metadata": {},
     "output_type": "execute_result"
    }
   ],
   "source": [
    "## The order of set does not matter\n",
    "{1,2} == {2,1}"
   ]
  },
  {
   "cell_type": "code",
   "execution_count": 243,
   "id": "4d1b3a42",
   "metadata": {},
   "outputs": [
    {
     "name": "stdout",
     "output_type": "stream",
     "text": [
      "<class 'tuple'>\n",
      "var is tuple\n"
     ]
    }
   ],
   "source": [
    "myTuple = (1,2,3)\n",
    "print(type(myTuple))\n",
    "print(\"var is tuple\" if isinstance(myTuple, tuple) else \"var is not tuple\")"
   ]
  },
  {
   "cell_type": "code",
   "execution_count": 244,
   "id": "e380f00e",
   "metadata": {},
   "outputs": [
    {
     "data": {
      "text/plain": [
       "False"
      ]
     },
     "execution_count": 244,
     "metadata": {},
     "output_type": "execute_result"
    }
   ],
   "source": [
    "## The order of Tuple does not matter\n",
    "(1,2,3) == (3,2,1)"
   ]
  },
  {
   "cell_type": "code",
   "execution_count": 245,
   "id": "4bf779a7",
   "metadata": {},
   "outputs": [
    {
     "name": "stdout",
     "output_type": "stream",
     "text": [
      "Unexpected err=AttributeError(\"'tuple' object has no attribute 'append'\") error occured TypeError(err)=TypeError(AttributeError(\"'tuple' object has no attribute 'append'\"))\n",
      "exit function\n"
     ]
    }
   ],
   "source": [
    "## Tuples cannot be modified\n",
    "testTuple = (1,2,3)\n",
    "try:\n",
    "    testTuple.append(6)\n",
    "except Exception as err:\n",
    "    print(f\"Unexpected {err=} error occured {TypeError(err)=}\")\n",
    "finally:\n",
    "    print(\"exit function\")"
   ]
  },
  {
   "cell_type": "code",
   "execution_count": 246,
   "id": "27298b04",
   "metadata": {},
   "outputs": [
    {
     "name": "stdout",
     "output_type": "stream",
     "text": [
      "{'a': 1, 'b': 2}\n",
      "<class 'dict'>\n",
      "var is dict\n"
     ]
    }
   ],
   "source": [
    "myDictionary = { 'a' : 1, 'b':2}\n",
    "print(myDictionary)\n",
    "print(type(myDictionary))\n",
    "print(\"var is dict\" if isinstance(myDictionary, dict) else \"var is not dict\")"
   ]
  },
  {
   "cell_type": "code",
   "execution_count": 247,
   "id": "bd404991",
   "metadata": {},
   "outputs": [
    {
     "name": "stdout",
     "output_type": "stream",
     "text": [
      "2\n",
      "0\n",
      "1\n",
      "2.0\n",
      "3\n",
      "string 1 string 1 string 1 string 1 \n",
      "True\n",
      "True\n",
      "True\n",
      "True\n",
      "True\n",
      "True\n",
      "True\n",
      "False\n",
      "True\n",
      "True\n",
      "False\n",
      "False\n"
     ]
    }
   ],
   "source": [
    "## operators\n",
    "print(1 + 1)\n",
    "print(1 - 1)\n",
    "print(1 * 1)\n",
    "print(2 / 1)\n",
    "print(3 % 5)\n",
    "print('string 1 ' * 4)\n",
    "print(True == True)\n",
    "print(4 < 5)\n",
    "print(4 <= 5)\n",
    "print(5 > 2)\n",
    "print(5 >= 2)\n",
    "print(True and True)\n",
    "print(True or True)\n",
    "print(not(True))\n",
    "print(1 in [1,2,3,4])\n",
    "print(\"cat \" in \"cat is here\")\n",
    "print(\"cat \" not in \"cat is here\")\n",
    "print(\"cat \" in {\"cat\":1}.keys())"
   ]
  },
  {
   "cell_type": "code",
   "execution_count": 248,
   "id": "e76146d5",
   "metadata": {},
   "outputs": [
    {
     "name": "stdout",
     "output_type": "stream",
     "text": [
      "false condition\n"
     ]
    }
   ],
   "source": [
    "status = False\n",
    "if status:\n",
    "    print(\"status is true\")\n",
    "else:\n",
    "    print(\"false condition\")"
   ]
  },
  {
   "cell_type": "code",
   "execution_count": 249,
   "id": "8ef506f1",
   "metadata": {},
   "outputs": [
    {
     "name": "stdout",
     "output_type": "stream",
     "text": [
      "1\n",
      "2\n",
      "3\n",
      "4\n"
     ]
    }
   ],
   "source": [
    "a = [1,2,3,4]\n",
    "for element in a:\n",
    "    print(element)"
   ]
  },
  {
   "cell_type": "code",
   "execution_count": 250,
   "id": "88c51f72",
   "metadata": {},
   "outputs": [
    {
     "name": "stdout",
     "output_type": "stream",
     "text": [
      "10\n",
      "9\n",
      "8\n",
      "7\n",
      "6\n",
      "5\n",
      "4\n",
      "3\n",
      "2\n",
      "1\n"
     ]
    }
   ],
   "source": [
    "number = 10\n",
    "while number > 0:\n",
    "    print(number)\n",
    "    number = number - 1"
   ]
  },
  {
   "attachments": {},
   "cell_type": "markdown",
   "id": "43743858",
   "metadata": {},
   "source": [
    "Function"
   ]
  },
  {
   "cell_type": "code",
   "execution_count": 251,
   "id": "6668bafb",
   "metadata": {},
   "outputs": [
    {
     "name": "stdout",
     "output_type": "stream",
     "text": [
      "[[1, 2, 3, 4, 5], [1.2, 3.2, 3.5], [], 'string name', True, False, 1]\n",
      "[[1, 2, 3, 4, 5], [1.2, 3.2, 3.5], [], 'string name', True, False, 1, None]\n"
     ]
    }
   ],
   "source": [
    "def viewList():\n",
    "    return print(myList)\n",
    "\n",
    "def addToMyList(input):\n",
    "    myList.append(input)\n",
    "    return viewList()\n",
    "\n",
    "addToMyList(1)\n",
    "addToMyList(None)\n"
   ]
  },
  {
   "cell_type": "code",
   "execution_count": 252,
   "id": "da077452",
   "metadata": {},
   "outputs": [
    {
     "name": "stdout",
     "output_type": "stream",
     "text": [
      "self.name='tom' + just barked\n",
      "{'numOfLegs': 4}\n",
      "{'numOfLegs': 4, 'favorite food': ['apple', 'meat']}\n"
     ]
    }
   ],
   "source": [
    "class Animal:\n",
    "    def __init__(self):\n",
    "        self.name = 'Unknown'\n",
    "        self.numOfLegs = 0\n",
    "\n",
    "class Dog:\n",
    "    def __init__(self,name):\n",
    "        self.name = name\n",
    "        self.attributes = {}\n",
    "    \n",
    "    def speak(self):\n",
    "        print(f\"{self.name=} + just barked\")\n",
    "    \n",
    "    def addAttribute(self, key, value):\n",
    "        self.attributes[key]=value\n",
    "        return self.getAttributes()\n",
    "    \n",
    "    def getAttributes(self):\n",
    "        return print(self.attributes)\n",
    "\n",
    "dog_1 = Dog(\"tom\")\n",
    "dog_1.speak()\n",
    "dog_1.addAttribute(\"numOfLegs\",4)\n",
    "dog_1.addAttribute(\"favorite food\",[\"apple\", \"meat\"])"
   ]
  }
 ],
 "metadata": {
  "kernelspec": {
   "display_name": "Python 3",
   "language": "python",
   "name": "python3"
  },
  "language_info": {
   "codemirror_mode": {
    "name": "ipython",
    "version": 3
   },
   "file_extension": ".py",
   "mimetype": "text/x-python",
   "name": "python",
   "nbconvert_exporter": "python",
   "pygments_lexer": "ipython3",
   "version": "3.8.10"
  }
 },
 "nbformat": 4,
 "nbformat_minor": 5
}
