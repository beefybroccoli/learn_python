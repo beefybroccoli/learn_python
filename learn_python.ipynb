{
 "cells": [
  {
   "cell_type": "code",
   "execution_count": 1499,
   "metadata": {},
   "outputs": [],
   "source": [
    "import sys"
   ]
  },
  {
   "cell_type": "code",
   "execution_count": 1500,
   "metadata": {},
   "outputs": [
    {
     "name": "stdout",
     "output_type": "stream",
     "text": [
      "what is up?\n"
     ]
    }
   ],
   "source": [
    "print(\"what is up?\")"
   ]
  },
  {
   "cell_type": "code",
   "execution_count": 1501,
   "metadata": {},
   "outputs": [
    {
     "name": "stdout",
     "output_type": "stream",
     "text": [
      "<class 'str'>\n",
      "name is string\n"
     ]
    }
   ],
   "source": [
    "name = 'Tom'\n",
    "print(type(name))\n",
    "if isinstance(name, str):\n",
    "    print(\"name is string\")\n",
    "else:\n",
    "    print('name is not string')"
   ]
  },
  {
   "cell_type": "code",
   "execution_count": 1502,
   "id": "d837c760",
   "metadata": {},
   "outputs": [
    {
     "name": "stdout",
     "output_type": "stream",
     "text": [
      "<class 'int'>\n",
      "var is int\n"
     ]
    }
   ],
   "source": [
    "intNumber = 5\n",
    "print(type(intNumber))\n",
    "if isinstance(intNumber, int):\n",
    "    print(\"var is int\")\n",
    "else:\n",
    "    print('var is not int')"
   ]
  },
  {
   "cell_type": "code",
   "execution_count": 1503,
   "id": "5afbe75f",
   "metadata": {},
   "outputs": [
    {
     "name": "stdout",
     "output_type": "stream",
     "text": [
      "<class 'float'>\n",
      "var is float\n"
     ]
    }
   ],
   "source": [
    "floatNumber = 5.2\n",
    "print(type(floatNumber))\n",
    "if isinstance(floatNumber, float):\n",
    "    print(\"var is float\")\n",
    "else:\n",
    "    print('var is not foat')"
   ]
  },
  {
   "cell_type": "code",
   "execution_count": 1504,
   "id": "be4a748d",
   "metadata": {},
   "outputs": [
    {
     "name": "stdout",
     "output_type": "stream",
     "text": [
      "string 1string 1\n",
      "Unexpected err=TypeError('can only concatenate str (not \"int\") to str'), type(err)=<class 'TypeError'>\n",
      "end of function\n"
     ]
    }
   ],
   "source": [
    "try:\n",
    "    print('string 1' + 'string 1')\n",
    "\n",
    "    print('string 1' + 1)\n",
    "except Exception as err:\n",
    "    print(f\"Unexpected {err=}, {type(err)=}\")\n",
    "finally:\n",
    "    print(\"end of function\")"
   ]
  },
  {
   "cell_type": "code",
   "execution_count": 1505,
   "metadata": {},
   "outputs": [
    {
     "name": "stdout",
     "output_type": "stream",
     "text": [
      "[[1, 2, 3, 4, 5], [1.2, 3.2, 3.5], [], 'string name', True, False]\n",
      "6\n"
     ]
    }
   ],
   "source": [
    "numberList = [1,2,3,4,5]\n",
    "floatList = [1.2, 3.2, 3.5]\n",
    "myList = [numberList, floatList, [], 'string name', True, False]\n",
    "print(myList)\n",
    "print(len(myList))"
   ]
  },
  {
   "cell_type": "code",
   "execution_count": 1506,
   "id": "6631e8c0",
   "metadata": {},
   "outputs": [
    {
     "name": "stdout",
     "output_type": "stream",
     "text": [
      "<class 'set'>\n",
      "var is set\n",
      "4\n"
     ]
    }
   ],
   "source": [
    "mySet = {1, 1, 3, 4, 5}\n",
    "print(type(mySet))\n",
    "print(\"var is set\" if isinstance(mySet,set) else \"var is not set\")\n",
    "print(len(mySet))"
   ]
  },
  {
   "cell_type": "code",
   "execution_count": 1507,
   "id": "ee797abc",
   "metadata": {},
   "outputs": [
    {
     "data": {
      "text/plain": [
       "False"
      ]
     },
     "execution_count": 1507,
     "metadata": {},
     "output_type": "execute_result"
    }
   ],
   "source": [
    "## The order of list is important\n",
    "[1,2] == [2,1]"
   ]
  },
  {
   "cell_type": "code",
   "execution_count": 1508,
   "id": "d2601156",
   "metadata": {},
   "outputs": [
    {
     "data": {
      "text/plain": [
       "True"
      ]
     },
     "execution_count": 1508,
     "metadata": {},
     "output_type": "execute_result"
    }
   ],
   "source": [
    "## The order of set does not matter\n",
    "{1,2} == {2,1}"
   ]
  },
  {
   "cell_type": "code",
   "execution_count": 1509,
   "id": "4d1b3a42",
   "metadata": {},
   "outputs": [
    {
     "name": "stdout",
     "output_type": "stream",
     "text": [
      "<class 'tuple'>\n",
      "var is tuple\n"
     ]
    }
   ],
   "source": [
    "myTuple = (1,2,3)\n",
    "print(type(myTuple))\n",
    "print(\"var is tuple\" if isinstance(myTuple, tuple) else \"var is not tuple\")"
   ]
  },
  {
   "cell_type": "code",
   "execution_count": 1510,
   "id": "e380f00e",
   "metadata": {},
   "outputs": [
    {
     "data": {
      "text/plain": [
       "False"
      ]
     },
     "execution_count": 1510,
     "metadata": {},
     "output_type": "execute_result"
    }
   ],
   "source": [
    "## The order of Tuple does not matter\n",
    "(1,2,3) == (3,2,1)"
   ]
  },
  {
   "cell_type": "code",
   "execution_count": 1511,
   "id": "4bf779a7",
   "metadata": {},
   "outputs": [
    {
     "name": "stdout",
     "output_type": "stream",
     "text": [
      "Unexpected err=AttributeError(\"'tuple' object has no attribute 'append'\") error occured TypeError(err)=TypeError(AttributeError(\"'tuple' object has no attribute 'append'\"))\n",
      "exit function\n"
     ]
    }
   ],
   "source": [
    "## Tuples cannot be modified\n",
    "testTuple = (1,2,3)\n",
    "try:\n",
    "    testTuple.append(6)\n",
    "except Exception as err:\n",
    "    print(f\"Unexpected {err=} error occured {TypeError(err)=}\")\n",
    "finally:\n",
    "    print(\"exit function\")"
   ]
  },
  {
   "cell_type": "code",
   "execution_count": 1512,
   "id": "27298b04",
   "metadata": {},
   "outputs": [
    {
     "name": "stdout",
     "output_type": "stream",
     "text": [
      "{'a': 1, 'b': 2}\n",
      "<class 'dict'>\n",
      "var is dict\n"
     ]
    }
   ],
   "source": [
    "myDictionary = { 'a' : 1, 'b':2}\n",
    "print(myDictionary)\n",
    "print(type(myDictionary))\n",
    "print(\"var is dict\" if isinstance(myDictionary, dict) else \"var is not dict\")"
   ]
  },
  {
   "cell_type": "code",
   "execution_count": 1513,
   "id": "bd404991",
   "metadata": {},
   "outputs": [
    {
     "name": "stdout",
     "output_type": "stream",
     "text": [
      "2\n",
      "0\n",
      "1\n",
      "2.0\n",
      "3\n",
      "string 1 string 1 string 1 string 1 \n",
      "True\n",
      "True\n",
      "True\n",
      "True\n",
      "True\n",
      "True\n",
      "True\n",
      "False\n",
      "True\n",
      "True\n",
      "False\n",
      "False\n"
     ]
    }
   ],
   "source": [
    "## operators\n",
    "print(1 + 1)\n",
    "print(1 - 1)\n",
    "print(1 * 1)\n",
    "print(2 / 1)\n",
    "print(3 % 5)\n",
    "print('string 1 ' * 4)\n",
    "print(True == True)\n",
    "print(4 < 5)\n",
    "print(4 <= 5)\n",
    "print(5 > 2)\n",
    "print(5 >= 2)\n",
    "print(True and True)\n",
    "print(True or True)\n",
    "print(not(True))\n",
    "print(1 in [1,2,3,4])\n",
    "print(\"cat \" in \"cat is here\")\n",
    "print(\"cat \" not in \"cat is here\")\n",
    "print(\"cat \" in {\"cat\":1}.keys())"
   ]
  },
  {
   "cell_type": "code",
   "execution_count": 1514,
   "id": "e76146d5",
   "metadata": {},
   "outputs": [
    {
     "name": "stdout",
     "output_type": "stream",
     "text": [
      "false condition\n"
     ]
    }
   ],
   "source": [
    "status = False\n",
    "if status:\n",
    "    print(\"status is true\")\n",
    "else:\n",
    "    print(\"false condition\")"
   ]
  },
  {
   "cell_type": "code",
   "execution_count": 1515,
   "id": "8ef506f1",
   "metadata": {},
   "outputs": [
    {
     "name": "stdout",
     "output_type": "stream",
     "text": [
      "1\n",
      "2\n",
      "3\n",
      "4\n"
     ]
    }
   ],
   "source": [
    "a = [1,2,3,4]\n",
    "for element in a:\n",
    "    print(element)"
   ]
  },
  {
   "cell_type": "code",
   "execution_count": 1516,
   "id": "88c51f72",
   "metadata": {},
   "outputs": [
    {
     "name": "stdout",
     "output_type": "stream",
     "text": [
      "10\n",
      "9\n",
      "8\n",
      "7\n",
      "6\n",
      "5\n",
      "4\n",
      "3\n",
      "2\n",
      "1\n"
     ]
    }
   ],
   "source": [
    "number = 10\n",
    "while number > 0:\n",
    "    print(number)\n",
    "    number = number - 1"
   ]
  },
  {
   "attachments": {},
   "cell_type": "markdown",
   "id": "43743858",
   "metadata": {},
   "source": [
    "Function"
   ]
  },
  {
   "cell_type": "code",
   "execution_count": 1517,
   "id": "6668bafb",
   "metadata": {},
   "outputs": [
    {
     "name": "stdout",
     "output_type": "stream",
     "text": [
      "[[1, 2, 3, 4, 5], [1.2, 3.2, 3.5], [], 'string name', True, False, 1]\n",
      "[[1, 2, 3, 4, 5], [1.2, 3.2, 3.5], [], 'string name', True, False, 1, None]\n"
     ]
    }
   ],
   "source": [
    "def viewList():\n",
    "    return print(myList)\n",
    "\n",
    "def addToMyList(input):\n",
    "    myList.append(input)\n",
    "    return viewList()\n",
    "\n",
    "addToMyList(1)\n",
    "addToMyList(None)\n"
   ]
  },
  {
   "cell_type": "code",
   "execution_count": 1518,
   "id": "da077452",
   "metadata": {},
   "outputs": [
    {
     "name": "stdout",
     "output_type": "stream",
     "text": [
      "self.name='tom' + just barked\n",
      "{'numOfLegs': 4}\n",
      "{'numOfLegs': 4, 'favorite food': ['apple', 'meat']}\n"
     ]
    }
   ],
   "source": [
    "class Animal:\n",
    "    def __init__(self):\n",
    "        self.name = 'Unknown'\n",
    "        self.numOfLegs = 0\n",
    "\n",
    "class Dog:\n",
    "    def __init__(self,name):\n",
    "        self.name = name\n",
    "        self.attributes = {}\n",
    "    \n",
    "    def speak(self):\n",
    "        print(f\"{self.name=} + just barked\")\n",
    "    \n",
    "    def addAttribute(self, key, value):\n",
    "        self.attributes[key]=value\n",
    "        return self.getAttributes()\n",
    "    \n",
    "    def getAttributes(self):\n",
    "        return print(self.attributes)\n",
    "\n",
    "dog_1 = Dog(\"tom\")\n",
    "dog_1.speak()\n",
    "dog_1.addAttribute(\"numOfLegs\",4)\n",
    "dog_1.addAttribute(\"favorite food\",[\"apple\", \"meat\"])"
   ]
  },
  {
   "cell_type": "code",
   "execution_count": null,
   "id": "ba63f57a",
   "metadata": {},
   "outputs": [],
   "source": []
  },
  {
   "attachments": {},
   "cell_type": "markdown",
   "id": "3a35f303",
   "metadata": {},
   "source": [
    "Common Problems with Data Type"
   ]
  },
  {
   "cell_type": "code",
   "execution_count": 1519,
   "id": "15ab59a3",
   "metadata": {},
   "outputs": [
    {
     "name": "stdout",
     "output_type": "stream",
     "text": [
      "8.0\n",
      "256.0\n",
      "0.19999999999999996\n",
      "0.01\n",
      "100\n"
     ]
    },
    {
     "data": {
      "text/plain": [
       "427"
      ]
     },
     "execution_count": 1519,
     "metadata": {},
     "output_type": "execute_result"
    }
   ],
   "source": [
    "print(4 + 4.0)\n",
    "print(4 ** 4.0)\n",
    "int(4 ** 4.0)\n",
    "int(8.99)\n",
    "int(round(8.99))\n",
    "print(1.2 - 1.0)\n",
    "print(round(1.2 - 1.19,2))\n",
    "print(int('100'))\n",
    "\n",
    "#convert base 16 to int\n",
    "int('1ab',16)"
   ]
  },
  {
   "cell_type": "code",
   "execution_count": 1520,
   "id": "d2c47179",
   "metadata": {},
   "outputs": [
    {
     "name": "stdout",
     "output_type": "stream",
     "text": [
      "0.45\n",
      "0.45\n"
     ]
    }
   ],
   "source": [
    "# working with money\n",
    "from decimal import Decimal, getcontext\n",
    "\n",
    "getcontext().prec=2 #change the precision to 4 decimal\n",
    "getcontext()\n",
    "print(Decimal(1.344)/Decimal(3))\n",
    "print(Decimal(' 01.344 ')/Decimal(int('3 ')))"
   ]
  },
  {
   "cell_type": "code",
   "execution_count": 1521,
   "id": "deb423ba",
   "metadata": {},
   "outputs": [
    {
     "name": "stdout",
     "output_type": "stream",
     "text": [
      "True\n",
      "True\n",
      "False\n",
      "False\n",
      "False\n",
      "False\n",
      "False\n",
      "False\n",
      "True\n",
      "False\n",
      "True\n"
     ]
    }
   ],
   "source": [
    "#working iwth boolean\n",
    "print(bool(1))\n",
    "print(bool(True))\n",
    "print(bool(False))\n",
    "print(bool(\"\")) #empty string return false\n",
    "print(bool(())) #empty tuple return false\n",
    "print(bool([])) #empty list return false\n",
    "print(bool({})) #empty dictionary return false\n",
    "print(bool(None)) #None return false\n",
    "print(bool(-1)) #negative number return True\n",
    "print(bool(0)) #zero return True\n",
    "print(bool(0.1))"
   ]
  },
  {
   "cell_type": "code",
   "execution_count": 1522,
   "id": "d56b16b8",
   "metadata": {},
   "outputs": [
    {
     "name": "stdout",
     "output_type": "stream",
     "text": [
      "m\n",
      "my name\n",
      "me is Tom\n",
      "my number is 4\n",
      "\n",
      "my string \n",
      "lst multiple lines,\n",
      "the same as {4} lines\n",
      "\n"
     ]
    }
   ],
   "source": [
    "#working with string\n",
    "\n",
    "#slicing\n",
    "random_string = \"my name is Tom\"\n",
    "print(random_string[0])\n",
    "print(random_string[0:7])\n",
    "print(random_string[5:])\n",
    "\n",
    "#string formatting\n",
    "print(f\"my number is {4}\")\n",
    "\n",
    "#multiline string\n",
    "my_long_string = '''\n",
    "my string \n",
    "lst multiple lines,\n",
    "the same as {4} lines\n",
    "'''\n",
    "print(my_long_string)"
   ]
  },
  {
   "cell_type": "code",
   "execution_count": 1523,
   "id": "7d4ca14c",
   "metadata": {},
   "outputs": [
    {
     "data": {
      "text/plain": [
       "'abcd'"
      ]
     },
     "execution_count": 1523,
     "metadata": {},
     "output_type": "execute_result"
    }
   ],
   "source": [
    "#python byte object\n",
    "\n",
    "#byte objects are a sequence of data\n",
    "\n",
    "bytes(4)\n",
    "new_bytes = bytes('abcd', 'utf-8')\n",
    "new_bytes.decode('utf-8')"
   ]
  },
  {
   "cell_type": "code",
   "execution_count": 1524,
   "id": "ad9d12ef",
   "metadata": {},
   "outputs": [
    {
     "name": "stdout",
     "output_type": "stream",
     "text": [
      "[0, 2, 4, 6, 8]\n",
      "[0, 2, 4, 6, 8]\n",
      "[0, 3, 6, 9]\n",
      "[9, 7, 5, 3, 1]\n",
      "[0, 1, 2, 3, 4, 5, 6, 7, 8, 9, 1]\n",
      "[0, 1, 2, 3, 4, 5, 6, 7, 8, 9]\n",
      "[0, 1, 2, 3, 4, 5, 6, 7, 8, 9]\n"
     ]
    }
   ],
   "source": [
    "#working with list\n",
    "myList = list(range(10)) #convert range to List\n",
    "print(myList[0:10:2]) #from index 0 to 9, return every second element\n",
    "print(myList[::2]) #from begin to end, return evey second element\n",
    "print(myList[::3]) #from begin to end, return evey third element\n",
    "print(myList[::-2]) #from end to begin, return evey second element\n",
    "myList.append(1)  #add item to a list\n",
    "print(myList)\n",
    "myList.pop()  #pop an item from list\n",
    "print(myList)\n",
    "duplicated_myList = myList.copy()\n",
    "print(myList)"
   ]
  },
  {
   "cell_type": "code",
   "execution_count": 1525,
   "id": "65825e60",
   "metadata": {},
   "outputs": [
    {
     "name": "stdout",
     "output_type": "stream",
     "text": [
      "[1, 2]\n",
      "[1, 2]\n",
      "1\n",
      "2\n",
      "1 not in set\n"
     ]
    }
   ],
   "source": [
    "#working with Set\n",
    "\n",
    "#remove duplicate from a list\n",
    "list_with_duplicated = [1, 1, 2, 2]\n",
    "new_set = set(list_with_duplicated)\n",
    "list_without_duplicated = list(new_set)\n",
    "print(list_without_duplicated)\n",
    "\n",
    "print(list(set([1, 1, 2, 2])))\n",
    "\n",
    "\n",
    "while len(new_set):\n",
    "    print(new_set.pop())\n",
    "\n",
    "\n",
    "#find elements in set\n",
    "print(\"1 in set\" if 1 in new_set else \"1 not in set\")\n"
   ]
  },
  {
   "cell_type": "code",
   "execution_count": 1526,
   "id": "98568969",
   "metadata": {},
   "outputs": [
    {
     "data": {
      "text/plain": [
       "tuple"
      ]
     },
     "execution_count": 1526,
     "metadata": {},
     "output_type": "execute_result"
    }
   ],
   "source": [
    "#working with tuples\n",
    "\n",
    "def returnMultipleValues():\n",
    "    return 1, 2, 3\n",
    "\n",
    "type(returnMultipleValues())\n",
    "\n",
    "new_tuple = (1,2,3) #set new tuple\n",
    "\n",
    "a, b, c = returnMultipleValues()"
   ]
  },
  {
   "cell_type": "markdown",
   "id": "4f205a0a",
   "metadata": {},
   "source": []
  },
  {
   "cell_type": "markdown",
   "id": "8a8391b0",
   "metadata": {},
   "source": []
  }
 ],
 "metadata": {
  "kernelspec": {
   "display_name": "Python 3",
   "language": "python",
   "name": "python3"
  },
  "language_info": {
   "codemirror_mode": {
    "name": "ipython",
    "version": 3
   },
   "file_extension": ".py",
   "mimetype": "text/x-python",
   "name": "python",
   "nbconvert_exporter": "python",
   "pygments_lexer": "ipython3",
   "version": "3.8.10"
  }
 },
 "nbformat": 4,
 "nbformat_minor": 5
}
